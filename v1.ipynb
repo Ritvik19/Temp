{
 "cells": [
  {
   "cell_type": "markdown",
   "metadata": {},
   "source": [
    "https://www.kaggle.com/rmisra/news-headlines-dataset-for-sarcasm-detection"
   ]
  },
  {
   "cell_type": "markdown",
   "metadata": {},
   "source": [
    "# Import Libraries"
   ]
  },
  {
   "cell_type": "code",
   "execution_count": 1,
   "metadata": {},
   "outputs": [],
   "source": [
    "import numpy as np\n",
    "import pandas as pd"
   ]
  },
  {
   "cell_type": "code",
   "execution_count": 2,
   "metadata": {},
   "outputs": [],
   "source": [
    "pd.options.display.max_columns = 3\n",
    "pd.options.display.max_colwidth = -1"
   ]
  },
  {
   "cell_type": "code",
   "execution_count": 17,
   "metadata": {},
   "outputs": [],
   "source": [
    "import pickle"
   ]
  },
  {
   "cell_type": "markdown",
   "metadata": {},
   "source": [
    "# Import Data"
   ]
  },
  {
   "cell_type": "code",
   "execution_count": 3,
   "metadata": {},
   "outputs": [],
   "source": [
    "dataset = pd.read_json('Data\\\\Dataset.json', lines=True)"
   ]
  },
  {
   "cell_type": "code",
   "execution_count": 4,
   "metadata": {},
   "outputs": [
    {
     "data": {
      "text/html": [
       "<div>\n",
       "<style scoped>\n",
       "    .dataframe tbody tr th:only-of-type {\n",
       "        vertical-align: middle;\n",
       "    }\n",
       "\n",
       "    .dataframe tbody tr th {\n",
       "        vertical-align: top;\n",
       "    }\n",
       "\n",
       "    .dataframe thead th {\n",
       "        text-align: right;\n",
       "    }\n",
       "</style>\n",
       "<table border=\"1\" class=\"dataframe\">\n",
       "  <thead>\n",
       "    <tr style=\"text-align: right;\">\n",
       "      <th></th>\n",
       "      <th>article_link</th>\n",
       "      <th>headline</th>\n",
       "      <th>is_sarcastic</th>\n",
       "    </tr>\n",
       "  </thead>\n",
       "  <tbody>\n",
       "    <tr>\n",
       "      <th>0</th>\n",
       "      <td>https://www.huffingtonpost.com/entry/versace-black-code_us_5861fbefe4b0de3a08f600d5</td>\n",
       "      <td>former versace store clerk sues over secret 'black code' for minority shoppers</td>\n",
       "      <td>0</td>\n",
       "    </tr>\n",
       "    <tr>\n",
       "      <th>1</th>\n",
       "      <td>https://www.huffingtonpost.com/entry/roseanne-revival-review_us_5ab3a497e4b054d118e04365</td>\n",
       "      <td>the 'roseanne' revival catches up to our thorny political mood, for better and worse</td>\n",
       "      <td>0</td>\n",
       "    </tr>\n",
       "    <tr>\n",
       "      <th>2</th>\n",
       "      <td>https://local.theonion.com/mom-starting-to-fear-son-s-web-series-closest-thing-she-1819576697</td>\n",
       "      <td>mom starting to fear son's web series closest thing she will have to grandchild</td>\n",
       "      <td>1</td>\n",
       "    </tr>\n",
       "    <tr>\n",
       "      <th>3</th>\n",
       "      <td>https://politics.theonion.com/boehner-just-wants-wife-to-listen-not-come-up-with-alt-1819574302</td>\n",
       "      <td>boehner just wants wife to listen, not come up with alternative debt-reduction ideas</td>\n",
       "      <td>1</td>\n",
       "    </tr>\n",
       "    <tr>\n",
       "      <th>4</th>\n",
       "      <td>https://www.huffingtonpost.com/entry/jk-rowling-wishes-snape-happy-birthday_us_569117c4e4b0cad15e64fdcb</td>\n",
       "      <td>j.k. rowling wishes snape happy birthday in the most magical way</td>\n",
       "      <td>0</td>\n",
       "    </tr>\n",
       "  </tbody>\n",
       "</table>\n",
       "</div>"
      ],
      "text/plain": [
       "                                                                                              article_link  \\\n",
       "0  https://www.huffingtonpost.com/entry/versace-black-code_us_5861fbefe4b0de3a08f600d5                       \n",
       "1  https://www.huffingtonpost.com/entry/roseanne-revival-review_us_5ab3a497e4b054d118e04365                  \n",
       "2  https://local.theonion.com/mom-starting-to-fear-son-s-web-series-closest-thing-she-1819576697             \n",
       "3  https://politics.theonion.com/boehner-just-wants-wife-to-listen-not-come-up-with-alt-1819574302           \n",
       "4  https://www.huffingtonpost.com/entry/jk-rowling-wishes-snape-happy-birthday_us_569117c4e4b0cad15e64fdcb   \n",
       "\n",
       "                                                                               headline  \\\n",
       "0  former versace store clerk sues over secret 'black code' for minority shoppers         \n",
       "1  the 'roseanne' revival catches up to our thorny political mood, for better and worse   \n",
       "2  mom starting to fear son's web series closest thing she will have to grandchild        \n",
       "3  boehner just wants wife to listen, not come up with alternative debt-reduction ideas   \n",
       "4  j.k. rowling wishes snape happy birthday in the most magical way                       \n",
       "\n",
       "   is_sarcastic  \n",
       "0  0             \n",
       "1  0             \n",
       "2  1             \n",
       "3  1             \n",
       "4  0             "
      ]
     },
     "execution_count": 4,
     "metadata": {},
     "output_type": "execute_result"
    }
   ],
   "source": [
    "dataset.head()"
   ]
  },
  {
   "cell_type": "code",
   "execution_count": 5,
   "metadata": {},
   "outputs": [
    {
     "name": "stdout",
     "output_type": "stream",
     "text": [
      "There are 26709 samples out of which 11724 43.90 are sarcastic\n"
     ]
    }
   ],
   "source": [
    "print('There are {} samples out of which {} {:.2f} are sarcastic'.format(len(dataset), sum(dataset['is_sarcastic']), 100*sum(dataset['is_sarcastic'])/len(dataset)))"
   ]
  },
  {
   "cell_type": "markdown",
   "metadata": {},
   "source": []
  },
  {
   "cell_type": "markdown",
   "metadata": {},
   "source": [
    "# Preprocessing"
   ]
  },
  {
   "cell_type": "code",
   "execution_count": 12,
   "metadata": {},
   "outputs": [],
   "source": [
    "import nltk, re\n",
    "from nltk.stem.porter import PorterStemmer\n",
    "from nltk.stem import WordNetLemmatizer\n",
    "\n",
    "remove_punc = lambda x : re.sub(r\"\\W\", ' ', x)\n",
    "\n",
    "remove_extra_spaces = lambda x : re.sub(r\"\\s+\", ' ', x)\n",
    "\n",
    "lower_case = lambda x : x.lower()\n",
    "\n",
    "stop_words = set(nltk.corpus.stopwords.words('english'))\n",
    "remove_stopwords = lambda x: ' '.join(word for word in x.split() if word not in stop_words)\n",
    "\n",
    "ps = PorterStemmer()\n",
    "ps_stem = lambda x: ' '.join(ps.stem(word) for word in x.split())\n",
    "\n",
    "wnl = WordNetLemmatizer()\n",
    "wnl_lemmatize = lambda x: ' '.join(wnl.lemmatize(word) for word in x.split())\n",
    "\n",
    "def tag_pos(x):\n",
    "    tag_list =  nltk.pos_tag(nltk.word_tokenize(x))\n",
    "    pos = \"\"\n",
    "    for t in tag_list:\n",
    "        pos += t[0] +'(' + t[1] +')' + ' '\n",
    "    return pos\n",
    "\n",
    "def cleanText(x, rsw, stm, lem, tgps):\n",
    "    x = remove_punc(x)\n",
    "    x = remove_extra_spaces(x)\n",
    "    x = lower_case(x)\n",
    "    if rsw:\n",
    "        x = remove_stopwords(x)\n",
    "    if stm:\n",
    "        x = ps_stem(x)\n",
    "    if lem:\n",
    "        x = wnl_lemmatize(x)\n",
    "    if tgps:\n",
    "        x = tag_pos(x)\n",
    "    return x"
   ]
  },
  {
   "cell_type": "markdown",
   "metadata": {},
   "source": [
    "#### Cleaning"
   ]
  },
  {
   "cell_type": "code",
   "execution_count": 13,
   "metadata": {},
   "outputs": [
    {
     "data": {
      "text/html": [
       "<div>\n",
       "<style scoped>\n",
       "    .dataframe tbody tr th:only-of-type {\n",
       "        vertical-align: middle;\n",
       "    }\n",
       "\n",
       "    .dataframe tbody tr th {\n",
       "        vertical-align: top;\n",
       "    }\n",
       "\n",
       "    .dataframe thead th {\n",
       "        text-align: right;\n",
       "    }\n",
       "</style>\n",
       "<table border=\"1\" class=\"dataframe\">\n",
       "  <thead>\n",
       "    <tr style=\"text-align: right;\">\n",
       "      <th></th>\n",
       "      <th>headline</th>\n",
       "    </tr>\n",
       "  </thead>\n",
       "  <tbody>\n",
       "    <tr>\n",
       "      <th>0</th>\n",
       "      <td>former versace store clerk sues over secret black code for minority shoppers</td>\n",
       "    </tr>\n",
       "    <tr>\n",
       "      <th>1</th>\n",
       "      <td>the roseanne revival catches up to our thorny political mood for better and worse</td>\n",
       "    </tr>\n",
       "    <tr>\n",
       "      <th>2</th>\n",
       "      <td>mom starting to fear son s web series closest thing she will have to grandchild</td>\n",
       "    </tr>\n",
       "    <tr>\n",
       "      <th>3</th>\n",
       "      <td>boehner just wants wife to listen not come up with alternative debt reduction ideas</td>\n",
       "    </tr>\n",
       "    <tr>\n",
       "      <th>4</th>\n",
       "      <td>j k rowling wishes snape happy birthday in the most magical way</td>\n",
       "    </tr>\n",
       "  </tbody>\n",
       "</table>\n",
       "</div>"
      ],
      "text/plain": [
       "                                                                              headline\n",
       "0  former versace store clerk sues over secret black code for minority shoppers       \n",
       "1  the roseanne revival catches up to our thorny political mood for better and worse  \n",
       "2  mom starting to fear son s web series closest thing she will have to grandchild    \n",
       "3  boehner just wants wife to listen not come up with alternative debt reduction ideas\n",
       "4  j k rowling wishes snape happy birthday in the most magical way                    "
      ]
     },
     "execution_count": 13,
     "metadata": {},
     "output_type": "execute_result"
    }
   ],
   "source": [
    "X = pd.DataFrame()\n",
    "X['headline'] = dataset['headline'].apply(lambda x : cleanText(x, False, False, False, False))\n",
    "X.head()"
   ]
  },
  {
   "cell_type": "markdown",
   "metadata": {},
   "source": [
    "#### Tagging"
   ]
  },
  {
   "cell_type": "code",
   "execution_count": 16,
   "metadata": {},
   "outputs": [
    {
     "name": "stdout",
     "output_type": "stream",
     "text": [
      "Current Progress 26708 / 26709\n"
     ]
    },
    {
     "data": {
      "text/html": [
       "<div>\n",
       "<style scoped>\n",
       "    .dataframe tbody tr th:only-of-type {\n",
       "        vertical-align: middle;\n",
       "    }\n",
       "\n",
       "    .dataframe tbody tr th {\n",
       "        vertical-align: top;\n",
       "    }\n",
       "\n",
       "    .dataframe thead th {\n",
       "        text-align: right;\n",
       "    }\n",
       "</style>\n",
       "<table border=\"1\" class=\"dataframe\">\n",
       "  <thead>\n",
       "    <tr style=\"text-align: right;\">\n",
       "      <th></th>\n",
       "      <th>headline</th>\n",
       "    </tr>\n",
       "  </thead>\n",
       "  <tbody>\n",
       "    <tr>\n",
       "      <th>0</th>\n",
       "      <td>former(JJ) versace(NN) store(NN) clerk(NN) sues(NNS) over(IN) secret(JJ) black(JJ) code(NN) for(IN) minority(NN) shoppers(NNS)</td>\n",
       "    </tr>\n",
       "    <tr>\n",
       "      <th>1</th>\n",
       "      <td>the(DT) roseanne(NN) revival(NN) catches(VBZ) up(RP) to(TO) our(PRP$) thorny(JJ) political(JJ) mood(NN) for(IN) better(JJR) and(CC) worse(JJR)</td>\n",
       "    </tr>\n",
       "    <tr>\n",
       "      <th>2</th>\n",
       "      <td>mom(NN) starting(VBG) to(TO) fear(VB) son(NN) s(NN) web(NN) series(NN) closest(VBP) thing(NN) she(PRP) will(MD) have(VB) to(TO) grandchild(VB)</td>\n",
       "    </tr>\n",
       "    <tr>\n",
       "      <th>3</th>\n",
       "      <td>boehner(NN) just(RB) wants(VBZ) wife(NN) to(TO) listen(VB) not(RB) come(VBN) up(RP) with(IN) alternative(JJ) debt(NN) reduction(NN) ideas(NNS)</td>\n",
       "    </tr>\n",
       "    <tr>\n",
       "      <th>4</th>\n",
       "      <td>j(NN) k(NN) rowling(VBG) wishes(NNS) snape(VBP) happy(JJ) birthday(NN) in(IN) the(DT) most(RBS) magical(JJ) way(NN)</td>\n",
       "    </tr>\n",
       "  </tbody>\n",
       "</table>\n",
       "</div>"
      ],
      "text/plain": [
       "                                                                                                                                          headline\n",
       "0  former(JJ) versace(NN) store(NN) clerk(NN) sues(NNS) over(IN) secret(JJ) black(JJ) code(NN) for(IN) minority(NN) shoppers(NNS)                 \n",
       "1  the(DT) roseanne(NN) revival(NN) catches(VBZ) up(RP) to(TO) our(PRP$) thorny(JJ) political(JJ) mood(NN) for(IN) better(JJR) and(CC) worse(JJR) \n",
       "2  mom(NN) starting(VBG) to(TO) fear(VB) son(NN) s(NN) web(NN) series(NN) closest(VBP) thing(NN) she(PRP) will(MD) have(VB) to(TO) grandchild(VB) \n",
       "3  boehner(NN) just(RB) wants(VBZ) wife(NN) to(TO) listen(VB) not(RB) come(VBN) up(RP) with(IN) alternative(JJ) debt(NN) reduction(NN) ideas(NNS) \n",
       "4  j(NN) k(NN) rowling(VBG) wishes(NNS) snape(VBP) happy(JJ) birthday(NN) in(IN) the(DT) most(RBS) magical(JJ) way(NN)                            "
      ]
     },
     "execution_count": 16,
     "metadata": {},
     "output_type": "execute_result"
    }
   ],
   "source": [
    "X_tagged = pd.DataFrame(columns=['headline'])\n",
    "\n",
    "from IPython.display import clear_output\n",
    "n = len(X)\n",
    "for i in range(n):\n",
    "    clear_output(wait=True)\n",
    "    X_tagged = X_tagged.append({'headline':tag_pos(str(X.iloc[i][0]))}, ignore_index=True)\n",
    "    print('Current Progress', i, '/', n)\n",
    "X_tagged.head()"
   ]
  },
  {
   "cell_type": "code",
   "execution_count": 18,
   "metadata": {},
   "outputs": [],
   "source": [
    "X_tagged.to_csv('Data\\\\tagged.csv', index=False)"
   ]
  },
  {
   "cell_type": "markdown",
   "metadata": {},
   "source": [
    "#### Vectorizing"
   ]
  },
  {
   "cell_type": "code",
   "execution_count": 20,
   "metadata": {},
   "outputs": [],
   "source": [
    "from sklearn.feature_extraction.text import CountVectorizer, TfidfVectorizer"
   ]
  },
  {
   "cell_type": "code",
   "execution_count": 21,
   "metadata": {},
   "outputs": [],
   "source": [
    "cVect = CountVectorizer()\n",
    "cVect.fit(X_tagged)\n",
    "pickle.dump(cVect, open('v1/cVect.pickle', 'wb'))"
   ]
  },
  {
   "cell_type": "code",
   "execution_count": 22,
   "metadata": {},
   "outputs": [],
   "source": [
    "tVect = TfidfVectorizer()\n",
    "tVect.fit(X_tagged)\n",
    "pickle.dump(tVect, open('v1/tVect.pickle', 'wb'))"
   ]
  },
  {
   "cell_type": "code",
   "execution_count": null,
   "metadata": {},
   "outputs": [],
   "source": []
  }
 ],
 "metadata": {
  "kernelspec": {
   "display_name": "Python 3",
   "language": "python",
   "name": "python3"
  },
  "language_info": {
   "codemirror_mode": {
    "name": "ipython",
    "version": 3
   },
   "file_extension": ".py",
   "mimetype": "text/x-python",
   "name": "python",
   "nbconvert_exporter": "python",
   "pygments_lexer": "ipython3",
   "version": "3.6.3"
  }
 },
 "nbformat": 4,
 "nbformat_minor": 2
}
